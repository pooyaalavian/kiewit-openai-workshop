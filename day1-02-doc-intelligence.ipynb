{
 "cells": [
  {
   "cell_type": "markdown",
   "metadata": {},
   "source": [
    "# Document Intelligence Deep Dive"
   ]
  },
  {
   "cell_type": "code",
   "execution_count": null,
   "metadata": {},
   "outputs": [],
   "source": [
    "from dotenv import load_dotenv\n",
    "load_dotenv()\n",
    "import os\n",
    "DOC_INTELLIGENCE_ENDPOINT = os.getenv(\"AZURE_DOC_INTELLIGENCE_ENDPOINT\")\n",
    "DOC_INTELLIGENCE_KEY = os.getenv(\"AZURE_DOC_INTELLIGENCE_KEY\")\n",
    "DOC_INTELLIGENCE_VERSION = os.getenv(\"AZURE_DOC_INTELLIGENCE_VERSION\")\n",
    "MODEL_ID = \"prebuilt-document\" \n",
    "# other values for MODEL_ID \n",
    "# - prebuilt-read\n",
    "# - prebuilt-layout\n",
    "# - prebuilt-healthInsuranceCard.us\n",
    "# - prebuilt-tax.us.w2\n",
    "# - prebuilt-invoice\n",
    "# - prebuilt-receipt\n",
    "# - prebuilt-idDocument\n",
    "# - prebuilt-businessCard\n",
    "# or you can train your custom model\n",
    "\n",
    "FEATURES = ['barcodes']\n",
    "# barcodes        Enable the detection of barcodes in the document.\n",
    "# formulas        Enable the detection of mathematical expressions in the document.\n",
    "# keyValuePairs   Enable the detection of general key value pairs (form fields) in the document.\n",
    "# languages       Enable the detection of the text content language.\n",
    "# ocrHighResolution  Perform OCR at a higher resolution to handle documents with fine print.\n",
    "# styleFont       Enable the recognition of various font styles."
   ]
  },
  {
   "cell_type": "code",
   "execution_count": null,
   "metadata": {},
   "outputs": [],
   "source": [
    "from azure.ai.formrecognizer import DocumentAnalysisClient\n",
    "from azure.core.credentials import AzureKeyCredential\n",
    "\n",
    "credentials = AzureKeyCredential(DOC_INTELLIGENCE_KEY)\n",
    "client = DocumentAnalysisClient(DOC_INTELLIGENCE_ENDPOINT, credentials)\n",
    "poller = client.begin_analyze_document(\n",
    "    MODEL_ID, \n",
    "    open('sample_data/CCR Phase 3 Final RFP_20230215.pdf', 'rb'), \n",
    "    pages='6-8', \n",
    "    # features=FEATURES\n",
    ")\n",
    "poller.wait()\n",
    "result = poller.result()\n",
    "result"
   ]
  },
  {
   "cell_type": "code",
   "execution_count": null,
   "metadata": {},
   "outputs": [],
   "source": [
    "[l.content for l in result.pages[0].lines]"
   ]
  },
  {
   "cell_type": "code",
   "execution_count": null,
   "metadata": {},
   "outputs": [],
   "source": [
    "for p in result.paragraphs:\n",
    "    if p.role=='sectionHeading':\n",
    "        print(f\"# {p.content}\")\n",
    "    elif p.role in ['pageFooter','pageHeader','pageNumber']:\n",
    "        print('__')\n",
    "    else:\n",
    "        print(p.content)"
   ]
  },
  {
   "cell_type": "code",
   "execution_count": null,
   "metadata": {},
   "outputs": [],
   "source": [
    "tbl = None \n",
    "if len(result.tables) > 0:\n",
    "    result.tables[0]\n",
    "    rows = result.tables[0].row_count\n",
    "    cols = result.tables[0].column_count \n",
    "    tbl = [['' for c in range(cols)] for r in range(rows)]\n",
    "    for cell in result.tables[0].cells:\n",
    "        tbl[cell.row_index][cell.column_index] = cell.content\n",
    "tbl"
   ]
  },
  {
   "cell_type": "code",
   "execution_count": null,
   "metadata": {},
   "outputs": [],
   "source": [
    "[l.content for l in result.pages[2].lines]"
   ]
  },
  {
   "cell_type": "markdown",
   "metadata": {},
   "source": [
    "Let's process a few pages and familiarize ourselves with the outputs.\n",
    "\n",
    "Feel free to compare the results with Excel files."
   ]
  },
  {
   "cell_type": "code",
   "execution_count": null,
   "metadata": {},
   "outputs": [],
   "source": []
  }
 ],
 "metadata": {
  "kernelspec": {
   "display_name": ".venv",
   "language": "python",
   "name": "python3"
  },
  "language_info": {
   "codemirror_mode": {
    "name": "ipython",
    "version": 3
   },
   "file_extension": ".py",
   "mimetype": "text/x-python",
   "name": "python",
   "nbconvert_exporter": "python",
   "pygments_lexer": "ipython3",
   "version": "3.10.11"
  }
 },
 "nbformat": 4,
 "nbformat_minor": 2
}
