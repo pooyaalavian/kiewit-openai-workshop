{
 "cells": [
  {
   "cell_type": "markdown",
   "metadata": {},
   "source": [
    "# Azure OpenAI Deep Dive\n"
   ]
  },
  {
   "cell_type": "markdown",
   "metadata": {},
   "source": [
    "## OpenAI offerings\n",
    "\n",
    "#### Language models\n",
    "- Completion and Chat\n",
    "- Embedding\n",
    "\n",
    "#### Other models\n",
    "- Dall-E\n",
    "- Whisper\n"
   ]
  },
  {
   "cell_type": "code",
   "execution_count": null,
   "metadata": {},
   "outputs": [],
   "source": [
    "from dotenv import load_dotenv\n",
    "load_dotenv()\n",
    "import os \n",
    "AZURE_OPENAI_ENDPOINT = os.getenv(\"AZURE_OPENAI_ENDPOINT\")\n",
    "AZURE_OPENAI_KEY = os.getenv(\"AZURE_OPENAI_KEY\")\n",
    "AZURE_OPENAI_VERSION = os.getenv(\"AZURE_OPENAI_VERSION\")\n",
    "CHAT_MODEL = os.getenv(\"AZURE_OPENAI_MODEL_CHAT\")\n",
    "EMBEDDING_MODEL = os.getenv(\"AZURE_OPENAI_MODEL_EMBEDDING\")\n",
    "\n"
   ]
  },
  {
   "cell_type": "code",
   "execution_count": null,
   "metadata": {},
   "outputs": [],
   "source": [
    "# Call OpenAI from their Rest API\n",
    "import requests \n",
    "import json \n",
    "URL = f'{AZURE_OPENAI_ENDPOINT}/openai/deployments/{CHAT_MODEL}/chat/completions'\n",
    "HEADERS = {\n",
    "    \"api-key\": AZURE_OPENAI_KEY,\n",
    "    \"Content-Type\": \"application/json\",\n",
    "}\n",
    "PARAMS = {\n",
    "    \"api-version\": AZURE_OPENAI_VERSION,\n",
    "}\n",
    "DATA = {\n",
    "    \"messages\":[\n",
    "        {\"role\":\"system\", \"content\": \"You are an assistant.\"},\n",
    "        {\"role\":\"user\", \"content\": \"Write 3 paragraphs about the history of Christmas.\"},\n",
    "    ],\n",
    "    \"max_tokens\": 800,\n",
    "    \"temperature\": 0.7,\n",
    "    \"frequency_penalty\": 0,\n",
    "    \"presence_penalty\": 0,\n",
    "    \"top_p\": 0.95,\n",
    "    \"stop\": None,\n",
    "}\n",
    "\n",
    "res = requests.post(URL,json.dumps(DATA), headers=HEADERS, params=PARAMS)\n",
    "response = res.json()\n"
   ]
  },
  {
   "cell_type": "code",
   "execution_count": null,
   "metadata": {},
   "outputs": [],
   "source": [
    "response"
   ]
  },
  {
   "cell_type": "code",
   "execution_count": null,
   "metadata": {},
   "outputs": [],
   "source": [
    "for result in response['prompt_filter_results']:\n",
    "    print(f'prompt_index: {result[\"prompt_index\"]}')\n",
    "    content_filter = result['content_filter_results']\n",
    "    for key in content_filter:\n",
    "        print(f'  - {key}: {content_filter[key]}')\n",
    "        "
   ]
  },
  {
   "cell_type": "code",
   "execution_count": null,
   "metadata": {},
   "outputs": [],
   "source": [
    "response['choices']"
   ]
  },
  {
   "cell_type": "code",
   "execution_count": null,
   "metadata": {},
   "outputs": [],
   "source": [
    "response['usage']"
   ]
  },
  {
   "cell_type": "markdown",
   "metadata": {},
   "source": [
    "## Using OpenAI Python Package"
   ]
  },
  {
   "cell_type": "code",
   "execution_count": null,
   "metadata": {},
   "outputs": [],
   "source": [
    "from openai import AzureOpenAI\n",
    "\n",
    "client = AzureOpenAI(\n",
    "    azure_endpoint=AZURE_OPENAI_ENDPOINT,\n",
    "    api_key=AZURE_OPENAI_KEY,\n",
    "    api_version=AZURE_OPENAI_VERSION,\n",
    ")\n",
    "\n",
    "chat_completion = client.chat.completions.create(\n",
    "    messages=[\n",
    "        {\"role\":\"system\", \"content\": \"You are an assistant.\"},\n",
    "        {\"role\":\"user\", \"content\": \"Write 3 paragraphs about the history of Christmas.\"},\n",
    "    ],\n",
    "    model=CHAT_MODEL,\n",
    "    max_tokens=800,\n",
    "    temperature=0.7,\n",
    "    frequency_penalty=0,\n",
    "    presence_penalty=0,\n",
    "    top_p=0.95,\n",
    "    stop=None,\n",
    ")\n",
    "\n",
    "chat_completion"
   ]
  },
  {
   "cell_type": "code",
   "execution_count": null,
   "metadata": {},
   "outputs": [],
   "source": [
    "chat_completion.choices[0].message"
   ]
  },
  {
   "cell_type": "code",
   "execution_count": null,
   "metadata": {},
   "outputs": [],
   "source": [
    "from openai import AzureOpenAI\n",
    "\n",
    "client = AzureOpenAI(\n",
    "    azure_endpoint=AZURE_OPENAI_ENDPOINT,\n",
    "    api_key=AZURE_OPENAI_KEY,\n",
    "    api_version=AZURE_OPENAI_VERSION,\n",
    ")\n",
    "\n",
    "response_stream = client.chat.completions.create(\n",
    "    messages=[\n",
    "        {\"role\":\"system\", \"content\": \"You are an assistant.\"},\n",
    "        {\"role\":\"user\", \"content\": \"Write 3 paragraphs about the history of Christmas.\"},\n",
    "    ],\n",
    "    model=CHAT_MODEL,\n",
    "    max_tokens=800,\n",
    "    temperature=0.7,\n",
    "    frequency_penalty=0,\n",
    "    presence_penalty=0,\n",
    "    top_p=0.95,\n",
    "    stop=None,\n",
    "    stream=True,\n",
    ")\n",
    "\n",
    "counter = 0\n",
    "for s in response_stream:\n",
    "    if s.choices and len(s.choices) > 0:\n",
    "        counter +=1\n",
    "        print(s.choices[0].delta.content or '', end='', flush=True)\n",
    "    if counter % 10==0:\n",
    "        print('')\n",
    "    "
   ]
  },
  {
   "cell_type": "markdown",
   "metadata": {},
   "source": [
    "## Embedding and Vectorization\n",
    "\n",
    "Humans understand the word \"apple\", a picture of an apple, and the word \"Apfel\" (German for Apple) are similar.\n",
    "\n",
    "Computers understand these as three totally different entities.\n",
    "\n",
    "How can we teach computer that the three are similar? And they are different from Apple iPhone?\n",
    "\n",
    "### Similarity in mathematics\n",
    "\n",
    "- Two numbers `a` and `b` are similar if `|a-b|` is small. \n",
    "- Two 2-D points `A=(a1,a2)` and `B=(b1,b2)` are similar if ...\n",
    "- Two n-D points `A=(a1,...,an)` and `B=(b1,...,bn)` are similar if ...\n",
    "\n",
    "There are multiple definitions of similarity in Linear Algebra.\n",
    "Three of the most common ones:\n",
    "- Euclidean: `d(A,B) = SQRT((a1-b1)^2+...(an-bn)^2)`\n",
    "    - A and B are more similar when distance is closer to 0.\n",
    "- dot-product: `dot(A,B) = A . B`\n",
    "    - A and B are more similar when the dot product is larger.\n",
    "- cosine: `cos_sim(A,B) = (A . B)/(||A|| . ||B||)`\n",
    "    - A and B are more similar when cosine similarity is closere to 1.\n",
    "\n",
    "### Converting text to vectors\n",
    "\n",
    "- A very difficult promblem. \n",
    "- Context-dependent.\n",
    "\n",
    "### A new era of search\n",
    "\n",
    "- Anything can be converted to vectors.\n",
    "- There are models for converting: \n",
    "    - image to vector\n",
    "    - video to vector\n",
    "    - audio to vector\n",
    "    - text in different languages to vector\n",
    "- You can search across images and videos\n",
    "- You can input an image and get related videos and text articles.\n",
    "- You can hum music and find soundtracks.\n",
    "\n"
   ]
  },
  {
   "cell_type": "code",
   "execution_count": null,
   "metadata": {},
   "outputs": [],
   "source": [
    "res = client.embeddings.create(\n",
    "    input=[\n",
    "        \"I ate an Apple.\",\n",
    "        \"ich habe einen Apfel gegessen.\",\n",
    "        \"Sky is blue.\",\n",
    "        \"من یک سیب خوردم.\",\n",
    "        ],\n",
    "    model=EMBEDDING_MODEL,\n",
    ")\n",
    "\n",
    "vector = res.data[0].embedding\n",
    "print(f\"vector length: {len(vector)}\")\n",
    "vector[:10]"
   ]
  },
  {
   "cell_type": "code",
   "execution_count": null,
   "metadata": {},
   "outputs": [],
   "source": [
    "apple, apfel,sky,sib = [r.embedding for r in res.data]"
   ]
  },
  {
   "cell_type": "code",
   "execution_count": null,
   "metadata": {},
   "outputs": [],
   "source": [
    "def dot(a,b):\n",
    "    return sum([x*y for x,y in zip(a,b)])\n",
    "\n",
    "print(f\"dot(apple,apple): {dot(apple,apple)}\")\n",
    "print(f\"dot(apple,apfel): {dot(apple,apfel)}\")\n",
    "print(f\"dot(apple,sky): {dot(apple,sky)}\")\n",
    "print(f\"dot(apfel,sky): {dot(apfel,sky)}\")\n",
    "print(f\"dot(apple,sib): {dot(apple,sib)}\")\n",
    "\n",
    "# In OpenAI dot and cosine are equivalent"
   ]
  },
  {
   "cell_type": "code",
   "execution_count": null,
   "metadata": {},
   "outputs": [],
   "source": []
  }
 ],
 "metadata": {
  "kernelspec": {
   "display_name": ".venv",
   "language": "python",
   "name": "python3"
  },
  "language_info": {
   "codemirror_mode": {
    "name": "ipython",
    "version": 3
   },
   "file_extension": ".py",
   "mimetype": "text/x-python",
   "name": "python",
   "nbconvert_exporter": "python",
   "pygments_lexer": "ipython3",
   "version": "3.10.11"
  }
 },
 "nbformat": 4,
 "nbformat_minor": 2
}
